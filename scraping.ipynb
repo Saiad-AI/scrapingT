{
  "cells": [
    {
      "cell_type": "code",
      "execution_count": 1,
      "metadata": {
        "colab": {
          "base_uri": "https://localhost:8080/"
        },
        "id": "v15_4ZLR6IST",
        "outputId": "b0653287-72f1-4a50-ea5d-cc69e4e074bd"
      },
      "outputs": [
        {
          "output_type": "stream",
          "name": "stdout",
          "text": [
            "Collecting fake-useragent\n",
            "  Downloading fake_useragent-1.5.1-py3-none-any.whl.metadata (15 kB)\n",
            "Downloading fake_useragent-1.5.1-py3-none-any.whl (17 kB)\n",
            "Installing collected packages: fake-useragent\n",
            "Successfully installed fake-useragent-1.5.1\n",
            "Collecting stem\n",
            "  Downloading stem-1.8.2.tar.gz (2.9 MB)\n",
            "\u001b[2K     \u001b[90m━━━━━━━━━━━━━━━━━━━━━━━━━━━━━━━━━━━━━━━━\u001b[0m \u001b[32m2.9/2.9 MB\u001b[0m \u001b[31m28.0 MB/s\u001b[0m eta \u001b[36m0:00:00\u001b[0m\n",
            "\u001b[?25h  Preparing metadata (setup.py) ... \u001b[?25l\u001b[?25hdone\n",
            "Building wheels for collected packages: stem\n",
            "  Building wheel for stem (setup.py) ... \u001b[?25l\u001b[?25hdone\n",
            "  Created wheel for stem: filename=stem-1.8.2-py3-none-any.whl size=436205 sha256=a5c4fa87632553a3dd6b8a418bba1de6afbabf07a12973ece3f836b62fa17d14\n",
            "  Stored in directory: /root/.cache/pip/wheels/4e/f3/41/2af9219109ac95b19b149169b0a8c99c714c021cb82e813498\n",
            "Successfully built stem\n",
            "Installing collected packages: stem\n",
            "Successfully installed stem-1.8.2\n"
          ]
        }
      ],
      "source": [
        "!pip install fake-useragent\n",
        "!pip install stem"
      ]
    },
    {
      "cell_type": "code",
      "execution_count": 2,
      "metadata": {
        "colab": {
          "base_uri": "https://localhost:8080/"
        },
        "id": "IpuKCsWI6Oyw",
        "outputId": "b85c5922-743b-4af7-bc36-809190839879"
      },
      "outputs": [
        {
          "output_type": "stream",
          "name": "stdout",
          "text": [
            "<title>You have been blocked | تم حظرك</title>\n"
          ]
        }
      ],
      "source": [
        "\n",
        "import requests\n",
        "from fake_useragent import UserAgent\n",
        "from stem import Signal\n",
        "from stem.control import Controller\n",
        "from bs4 import BeautifulSoup\n",
        "import time\n",
        "\n",
        "\n",
        "session = requests.session()\n",
        "session.proxies = {}\n",
        "session.proxies['http'] = 'socks5://localhost:9150'\n",
        "session.proxies['https'] = 'socks5://localhost:9150'\n",
        "\n",
        "def switchIP():\n",
        "    with Controller.from_port(port = 9051) as controller:\n",
        "        controller.authenticate()\n",
        "        controller.signal(Signal.NEWNYM)\n",
        "\n",
        "\n",
        "headers = {\n",
        "    \"User_Agent\":UserAgent().random,\n",
        "    # \"Accept-Language\": \"en-US,en;q=0.9\",\n",
        "    # \"Accept-Encoding\": \"gzip, deflate, br\",\n",
        "    # \"Connection\": \"keep-alive\",\n",
        "}\n",
        "\n",
        "url = \"https://sa.aqar.fm/%D8%B9%D9%82%D8%A7%D8%B1%D8%A7%D8%AA\"\n",
        "time.sleep(5)\n",
        "response = requests.get(url, headers=headers)\n",
        "soup = BeautifulSoup(response.text, 'html.parser')\n",
        "\n",
        "\n",
        "print(soup.title)"
      ]
    },
    {
      "cell_type": "code",
      "execution_count": null,
      "metadata": {
        "id": "iGMBiCPsmlxX"
      },
      "outputs": [],
      "source": []
    }
  ],
  "metadata": {
    "colab": {
      "provenance": []
    },
    "kernelspec": {
      "display_name": "Python 3",
      "name": "python3"
    },
    "language_info": {
      "name": "python"
    }
  },
  "nbformat": 4,
  "nbformat_minor": 0
}